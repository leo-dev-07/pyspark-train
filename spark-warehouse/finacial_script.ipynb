{
 "cells": [
  {
   "cell_type": "code",
   "execution_count": 1,
   "id": "4b6160e1",
   "metadata": {},
   "outputs": [],
   "source": [
    "import os\n",
    "import sys\n",
    "\n",
    "os.environ['JAVA_HOME'] = r'C:\\Program Files\\Java\\jdk-21'\n",
    "#os.environ['PYSPARK_HOME'] = r'C:\\Users\\lpaschoal\\pyspark\\spark-4.0.1-bin-hadoop3'\n",
    "os.environ['SPARK_HOME'] = r'C:\\Users\\lpaschoal\\pyspark\\spark-4.0.1-bin-hadoop3'\n",
    "os.environ['HADOOP_HOME'] = r'C:\\Users\\lpaschoal\\pyspark\\hadoop\\winutils\\hadoop-3.3.6'\n",
    "\n",
    "sys.path.insert(0, os.getenv('SPARK_HOME') + r\"\\python\\pyspark\")\n",
    "sys.path.insert(0, os.getenv('SPARK_HOME') + r\"\\python\\lib\\pyspark.zip\")\n",
    "sys.path.insert(0, os.getenv('SPARK_HOME') + r\"\\python\\lib\\py4j-0.10.9.9-src.zip\")\n",
    "\n",
    "import findspark\n",
    "findspark.init()\n",
    "from pyspark.sql import SparkSession\n",
    "\n",
    "spark = SparkSession.builder.appName(\"Financial Project\")\\\n",
    "    .config(\"spark.driver.memory\", \"12g\") \\\n",
    "    .config(\"spark.driver.extraJavaOptions\", \"--add-opens=java.base/java.lang=ALL-UNNAMED --add-opens=java.base/java.nio=ALL-UNNAMED\") \\\n",
    "    .config(\"spark.executor.extraJavaOptions\", \"--add-opens=java.base/java.lang=ALL-UNNAMED --add-opens=java.base/java.nio=ALL-UNNAMED\") \\\n",
    "    .getOrCreate()\n",
    "\n",
    "spark.conf.set(\"spark.sql.execution.pyspark.udf.faulthandler.enabled\", \"true\")\n"
   ]
  },
  {
   "cell_type": "code",
   "execution_count": 2,
   "id": "610ec0bf",
   "metadata": {},
   "outputs": [],
   "source": [
    "#Reading CSVs\n",
    "card_data = spark.read.csv(r\"C:\\Users\\lpaschoal\\data_src\\financial_data\\cards_data.csv\",header=True, inferSchema=True).createOrReplaceTempView('cards_data')\n",
    "trans_data = spark.read.csv(r\"C:\\Users\\lpaschoal\\data_src\\financial_data\\transactions_data.csv\",header=True, inferSchema=True).createOrReplaceTempView('trans_data')\n",
    "user_data = spark.read.csv(r\"C:\\Users\\lpaschoal\\data_src\\financial_data\\users_data.csv\",header=True, inferSchema=True).createOrReplaceTempView('users_data')"
   ]
  },
  {
   "cell_type": "code",
   "execution_count": 3,
   "id": "a4339f0d",
   "metadata": {},
   "outputs": [],
   "source": [
    "#Reading JSON\n",
    "#mcc_codes = spark.read.json(r\"C:\\Users\\lpaschoal\\data_src\\financial_data\\mcc_codes.json\",multiLine=True)\n",
    "#fraud_labels = spark.read.json(r\"C:\\Users\\lpaschoal\\data_src\\financial_data\\train_fraud_labels.json\",multiLine=True)"
   ]
  },
  {
   "cell_type": "code",
   "execution_count": 4,
   "id": "05996169",
   "metadata": {},
   "outputs": [
    {
     "name": "stdout",
     "output_type": "stream",
     "text": [
      "+----+-----------+--------------+----------+-----------+------+--------------------+--------+---------+-----------------+-------------+----------+------------+----------------+\n",
      "|  id|current_age|retirement_age|birth_year|birth_month|gender|             address|latitude|longitude|per_capita_income|yearly_income|total_debt|credit_score|num_credit_cards|\n",
      "+----+-----------+--------------+----------+-----------+------+--------------------+--------+---------+-----------------+-------------+----------+------------+----------------+\n",
      "| 825|         53|            66|      1966|         11|Female|       462 Rose Lane|   34.15|  -117.76|           $29278|       $59696|   $127613|         787|               5|\n",
      "|1746|         53|            68|      1966|         12|Female|3606 Federal Boul...|   40.76|   -73.74|           $37891|       $77254|   $191349|         701|               5|\n",
      "|1718|         81|            67|      1938|         11|Female|     766 Third Drive|   34.02|  -117.89|           $22681|       $33483|      $196|         698|               5|\n",
      "| 708|         63|            63|      1957|          1|Female|    3 Madison Street|   40.71|   -73.99|          $163145|      $249925|   $202328|         722|               4|\n",
      "|1164|         43|            70|      1976|          9|  Male|9620 Valley Strea...|   37.76|  -122.44|           $53797|      $109687|   $183855|         675|               1|\n",
      "|  68|         42|            70|      1977|         10|  Male|       58 Birch Lane|   41.55|    -90.6|           $20599|       $41997|        $0|         704|               3|\n",
      "|1075|         36|            67|      1983|         12|Female|   5695 Fifth Street|   38.22|   -85.74|           $25258|       $51500|   $102286|         672|               3|\n",
      "|1711|         26|            67|      1993|         12|  Male|   1941 Ninth Street|   45.51|  -122.64|           $26790|       $54623|   $114711|         728|               1|\n",
      "|1116|         81|            66|      1938|          7|Female|    11 Spruce Avenue|   40.32|   -75.32|           $26273|       $42509|     $2895|         755|               5|\n",
      "|1752|         34|            60|      1986|          1|Female|    887 Grant Street|   29.97|   -92.12|           $18730|       $38190|    $81262|         810|               1|\n",
      "| 192|         27|            66|      1992|          6|  Male|      888 Fifth Lane|   38.65|  -121.25|           $27548|       $56164|    $15224|         761|               2|\n",
      "| 640|         29|            63|      1990|          9|Female|8677 Littlewood Lane|   40.42|  -104.74|           $22427|       $45727|    $94016|         629|               1|\n",
      "|1679|         18|            67|      2002|          1|Female|829 Fourth Boulevard|   41.76|   -71.48|           $33914|       $69149|    $89214|         776|               1|\n",
      "|1094|         34|            62|      1985|         10|  Male|74786 Jefferson D...|   44.75|    -85.6|           $20325|       $41442|    $78833|         712|               3|\n",
      "|1590|         48|            62|      1971|          5|Female|     781 East Street|   29.45|    -98.5|           $10059|       $20513|    $32509|         599|               1|\n",
      "|1660|         41|            68|      1978|          4|Female| 40 Washington Drive|   36.73|  -102.51|           $11342|       $23123|     $5079|         723|               6|\n",
      "|1747|         54|            71|      1966|          1|  Male| 3994 Hillside Drive|   32.15|   -94.79|           $17898|       $36497|    $38333|         719|               6|\n",
      "| 153|         76|            71|      1943|          8|Female|    172 Birch Street|   35.29|  -111.32|           $21950|       $27484|    $16803|         660|               4|\n",
      "| 429|         22|            68|      1997|         11|  Male|8145 Spruce Boule...|   35.19|   -80.83|           $26481|       $53995|    $89056|         683|               3|\n",
      "| 511|         66|            68|      1953|         10|  Male|      153 Tenth Lane|   32.21|  -110.88|           $17460|       $35602|    $55369|         661|               5|\n",
      "+----+-----------+--------------+----------+-----------+------+--------------------+--------+---------+-----------------+-------------+----------+------------+----------------+\n",
      "only showing top 20 rows\n"
     ]
    }
   ],
   "source": [
    "spark.sql('SELECT * FROM users_data').show()"
   ]
  },
  {
   "cell_type": "code",
   "execution_count": 5,
   "id": "08cf9c98",
   "metadata": {},
   "outputs": [
    {
     "name": "stdout",
     "output_type": "stream",
     "text": [
      "+-------+-------------------+---------+-------+-------+------------------+-----------+---------------+--------------+-------+----+------+\n",
      "|     id|               date|client_id|card_id| amount|          use_chip|merchant_id|  merchant_city|merchant_state|    zip| mcc|errors|\n",
      "+-------+-------------------+---------+-------+-------+------------------+-----------+---------------+--------------+-------+----+------+\n",
      "|7475327|2010-01-01 00:01:00|     1556|   2972|$-77.00| Swipe Transaction|      59935|         Beulah|            ND|58523.0|5499|  NULL|\n",
      "|7475328|2010-01-01 00:02:00|      561|   4575| $14.57| Swipe Transaction|      67570|     Bettendorf|            IA|52722.0|5311|  NULL|\n",
      "|7475329|2010-01-01 00:02:00|     1129|    102| $80.00| Swipe Transaction|      27092|          Vista|            CA|92084.0|4829|  NULL|\n",
      "|7475331|2010-01-01 00:05:00|      430|   2860|$200.00| Swipe Transaction|      27092|    Crown Point|            IN|46307.0|4829|  NULL|\n",
      "|7475332|2010-01-01 00:06:00|      848|   3915| $46.41| Swipe Transaction|      13051|        Harwood|            MD|20776.0|5813|  NULL|\n",
      "|7475333|2010-01-01 00:07:00|     1807|    165|  $4.81| Swipe Transaction|      20519|          Bronx|            NY|10464.0|5942|  NULL|\n",
      "|7475334|2010-01-01 00:09:00|     1556|   2972| $77.00| Swipe Transaction|      59935|         Beulah|            ND|58523.0|5499|  NULL|\n",
      "|7475335|2010-01-01 00:14:00|     1684|   2140| $26.46|Online Transaction|      39021|         ONLINE|          NULL|   NULL|4784|  NULL|\n",
      "|7475336|2010-01-01 00:21:00|      335|   5131|$261.58|Online Transaction|      50292|         ONLINE|          NULL|   NULL|7801|  NULL|\n",
      "|7475337|2010-01-01 00:21:00|      351|   1112| $10.74| Swipe Transaction|       3864|       Flushing|            NY|11355.0|5813|  NULL|\n",
      "|7475338|2010-01-01 00:23:00|      554|   3912|  $3.51| Swipe Transaction|      67570|       Pearland|            TX|77581.0|5311|  NULL|\n",
      "|7475339|2010-01-01 00:23:00|      605|   5061|  $2.58| Swipe Transaction|      75781|       Brooklyn|            NY|11210.0|5411|  NULL|\n",
      "|7475340|2010-01-01 00:26:00|     1556|   2972| $39.63| Swipe Transaction|      59935|         Beulah|            ND|58523.0|5499|  NULL|\n",
      "|7475341|2010-01-01 00:27:00|     1797|   1127| $43.33| Swipe Transaction|      33326|        Kahului|            HI|96732.0|4121|  NULL|\n",
      "|7475342|2010-01-01 00:30:00|      114|   3398| $49.42| Swipe Transaction|      61195|North Hollywood|            CA|91606.0|5541|  NULL|\n",
      "|7475343|2010-01-01 00:31:00|     1634|   2464|  $1.09| Swipe Transaction|      20519|     San Benito|            TX|78586.0|5942|  NULL|\n",
      "|7475344|2010-01-01 00:32:00|      646|   2093| $73.79| Swipe Transaction|       1636|           Erie|            PA|16511.0|7538|  NULL|\n",
      "|7475345|2010-01-01 00:32:00|     1129|   5492|$100.00| Swipe Transaction|      27092|          Vista|            CA|92084.0|4829|  NULL|\n",
      "|7475346|2010-01-01 00:34:00|      394|   4717| $26.04|Online Transaction|      39021|         ONLINE|          NULL|   NULL|4784|  NULL|\n",
      "|7475347|2010-01-01 00:36:00|      114|   3398|$-64.00| Swipe Transaction|      61195|North Hollywood|            CA|91606.0|5541|  NULL|\n",
      "+-------+-------------------+---------+-------+-------+------------------+-----------+---------------+--------------+-------+----+------+\n",
      "only showing top 20 rows\n"
     ]
    }
   ],
   "source": [
    "spark.sql('SELECT * FROM trans_data').show()"
   ]
  },
  {
   "cell_type": "code",
   "execution_count": 6,
   "id": "bb0c4955",
   "metadata": {},
   "outputs": [
    {
     "name": "stdout",
     "output_type": "stream",
     "text": [
      "+----+---------+----------+---------------+----------------+-------+---+--------+----------------+------------+--------------+---------------------+----------------+\n",
      "|  id|client_id|card_brand|      card_type|     card_number|expires|cvv|has_chip|num_cards_issued|credit_limit|acct_open_date|year_pin_last_changed|card_on_dark_web|\n",
      "+----+---------+----------+---------------+----------------+-------+---+--------+----------------+------------+--------------+---------------------+----------------+\n",
      "|4524|      825|      Visa|          Debit|4344676511950444|12/2022|623|     YES|               2|      $24295|       09/2002|                 2008|              No|\n",
      "|2731|      825|      Visa|          Debit|4956965974959986|12/2020|393|     YES|               2|      $21968|       04/2014|                 2014|              No|\n",
      "|3701|      825|      Visa|          Debit|4582313478255491|02/2024|719|     YES|               2|      $46414|       07/2003|                 2004|              No|\n",
      "|  42|      825|      Visa|         Credit|4879494103069057|08/2024|693|      NO|               1|      $12400|       01/2003|                 2012|              No|\n",
      "|4659|      825|Mastercard|Debit (Prepaid)|5722874738736011|03/2009| 75|     YES|               1|         $28|       09/2008|                 2009|              No|\n",
      "|4537|     1746|      Visa|         Credit|4404898874682993|09/2003|736|     YES|               1|      $27500|       09/2003|                 2012|              No|\n",
      "|1278|     1746|      Visa|          Debit|4001482973848631|07/2022|972|     YES|               2|      $28508|       02/2011|                 2011|              No|\n",
      "|3687|     1746|Mastercard|          Debit|5627220683410948|06/2022| 48|     YES|               2|       $9022|       07/2003|                 2015|              No|\n",
      "|3465|     1746|Mastercard|Debit (Prepaid)|5711382187309326|11/2020|722|     YES|               2|         $54|       06/2010|                 2015|              No|\n",
      "|3754|     1746|Mastercard|Debit (Prepaid)|5766121508358701|02/2023|908|     YES|               1|         $99|       07/2006|                 2012|              No|\n",
      "|5144|     1718|Mastercard|          Debit|5495199163052054|03/2022|677|     YES|               2|      $31599|       10/2009|                 2009|              No|\n",
      "|2029|     1718|Mastercard|          Debit|5804499644308599|07/2023|258|      NO|               2|      $27480|       03/2002|                 2008|              No|\n",
      "|2379|     1718|Mastercard|          Debit|5766352389579834|02/2020|992|     YES|               1|      $26743|       03/2019|                 2019|              No|\n",
      "|2732|     1718|      Visa|          Debit|4242015583697294|06/2020|928|     YES|               1|      $31463|       04/2014|                 2014|              No|\n",
      "|4706|     1718|Mastercard|          Debit|5191030913182493|06/2024|360|     YES|               1|      $16055|       09/2009|                 2009|              No|\n",
      "| 281|      708|      Visa|         Credit|4017261190134817|05/2015|877|     YES|               2|      $98100|       01/2011|                 2011|              No|\n",
      "|1106|      708|Mastercard|Debit (Prepaid)|5581970288727991|06/2020|448|     YES|               1|         $62|       02/2007|                 2007|              No|\n",
      "|5621|      708|      Visa|          Debit|4032240655674503|06/2022| 53|     YES|               1|     $132439|       11/2010|                 2011|              No|\n",
      "|5165|      708|      Visa|          Debit|4935974646456357|06/2020|649|     YES|               1|     $125723|       10/2009|                 2010|              No|\n",
      "|5757|     1164|Mastercard|          Debit|5905027855347659|01/2022|886|     YES|               1|      $34900|       12/1999|                 2012|              No|\n",
      "+----+---------+----------+---------------+----------------+-------+---+--------+----------------+------------+--------------+---------------------+----------------+\n",
      "only showing top 20 rows\n"
     ]
    }
   ],
   "source": [
    "spark.sql(\"\"\"SELECT * FROM cards_data\"\"\").show()"
   ]
  },
  {
   "cell_type": "code",
   "execution_count": 7,
   "id": "d4e74a7c",
   "metadata": {},
   "outputs": [],
   "source": [
    "df_trans_init = spark.sql(\"\"\"SELECT date_format(date, 'yyyy-MM') as trans_date, client_id,\n",
    "SUM(\n",
    "    COALESCE(\n",
    "        TRY_CAST(\n",
    "            CASE\n",
    "                WHEN REGEXP_REPLACE(amount, '[^0-9.-]', '') LIKE '%-'\n",
    "                THEN CONCAT('-', REGEXP_REPLACE(REGEXP_REPLACE(amount, '[^0-9.-]', ''), '-', ''))\n",
    "                ELSE REGEXP_REPLACE(amount, '[^0-9.-]', '')\n",
    "            END\n",
    "            AS FLOAT\n",
    "        ),\n",
    "    0\n",
    "    )\n",
    ") as sum\n",
    "FROM trans_data\n",
    "GROUP BY client_id, date_format(date, 'yyyy-MM')\"\"\").createOrReplaceTempView('trans_sum')"
   ]
  },
  {
   "cell_type": "code",
   "execution_count": 8,
   "id": "8a24f222",
   "metadata": {},
   "outputs": [],
   "source": [
    "# Informations about the transactions total amount per year and month per user between 50 and 60 years \n",
    "\n",
    "df_users = spark.sql(\"SELECT * from users_data \\\n",
    "                    where current_age between 50 and 60 order by current_age\").createOrReplaceTempView('df_users')\n",
    "\n",
    "df_trans_year_month = spark.sql(\"select client_id, users.gender, users.per_capita_income, sum, trans_date from trans_sum\\\n",
    "                                left join df_users as users on trans_sum.client_id = users.id\").createOrReplaceTempView('users_percapta_income')"
   ]
  },
  {
   "cell_type": "code",
   "execution_count": 13,
   "id": "7fae12d9",
   "metadata": {},
   "outputs": [],
   "source": [
    "spark.sql(\"\"\"SELECT distinct users_percapta_income.client_id, gender, per_capita_income, sum, trans_date, ca.card_brand\n",
    "          FROM users_percapta_income \n",
    "          JOIN cards_data as ca ON users_percapta_income.client_id = ca.client_id\n",
    "          where gender IS NOT NULL\n",
    "          \"\"\").createOrReplaceTempView('trans_amount_year')"
   ]
  },
  {
   "cell_type": "code",
   "execution_count": null,
   "id": "05305a93",
   "metadata": {},
   "outputs": [],
   "source": []
  },
  {
   "cell_type": "code",
   "execution_count": 15,
   "id": "36709b75",
   "metadata": {},
   "outputs": [],
   "source": [
    "from pyspark.sql.functions import udf, col\n",
    "from pyspark.sql.types import StringType\n",
    "\n",
    "sc = spark.sparkContext\n",
    "map1 = {\"Mastercard\":\"M\", \"Visa\":\"V\", \"Amex\":\"A\"}\n",
    "\n",
    "bcv_card = sc.broadcast(map1)\n",
    "\n",
    "spark.sql(\"\"\"SELECT distinct client_id, gender, per_capita_income, sum, trans_date, card_brand\n",
    "          FROM trans_amount_year\"\"\")\n",
    "\n",
    "def convert(card_brand):\n",
    "    return bcv_card.value.get(str(card_brand), card_brand)  # Force str\n",
    "\n",
    "\n",
    "convert_status = udf(convert,StringType())\n",
    "df = spark.sql(\"\"\"SELECT distinct client_id, gender, per_capita_income, sum, trans_date, card_brand\n",
    "          FROM trans_amount_year\"\"\")\n",
    "final_df = df.withColumn(\"card_brand\", convert_status(col(\"card_brand\")))"
   ]
  },
  {
   "cell_type": "code",
   "execution_count": 16,
   "id": "ff6b1837",
   "metadata": {},
   "outputs": [
    {
     "name": "stdout",
     "output_type": "stream",
     "text": [
      "+---------+------+-----------------+------------------+----------+----------+\n",
      "|client_id|gender|per_capita_income|               sum|trans_date|card_brand|\n",
      "+---------+------+-----------------+------------------+----------+----------+\n",
      "|      216|Female|           $16273|2565.7799944877625|   2010-03|         V|\n",
      "|      216|Female|           $16273|2565.7799944877625|   2010-03|         M|\n",
      "|     1782|Female|           $19438|  2920.31004011631|   2010-06|         M|\n",
      "|     1782|Female|           $19438|  2920.31004011631|   2010-06|         V|\n",
      "|     1300|  Male|           $11324| 2387.100007534027|   2010-06|         M|\n",
      "|      375|Female|           $18444|1813.5099789500237|   2010-01|         M|\n",
      "|     1749|Female|            $8658|1104.5699954032898|   2010-01|         M|\n",
      "|      100|  Male|           $24005| 2740.220016002655|   2010-02|         M|\n",
      "|      100|  Male|           $24005| 2740.220016002655|   2010-02|         V|\n",
      "|      692|Female|           $20942|3608.3399965167046|   2010-03|         V|\n",
      "|      692|Female|           $20942|3608.3399965167046|   2010-03|         M|\n",
      "|     1571|Female|           $25166|3007.5499987602234|   2010-03|         M|\n",
      "|     1571|Female|           $25166|3007.5499987602234|   2010-03|         V|\n",
      "|     1315|Female|           $15976|1996.0699886083603|   2010-03|         M|\n",
      "|     1315|Female|           $15976|1996.0699886083603|   2010-03|         V|\n",
      "|      546|  Male|           $25111| 4403.120005726814|   2010-03|         M|\n",
      "|      546|  Male|           $25111| 4403.120005726814|   2010-03|         A|\n",
      "|     1315|Female|           $15976| 2666.649999976158|   2010-05|         M|\n",
      "|     1315|Female|           $15976| 2666.649999976158|   2010-05|         V|\n",
      "|     1529|  Male|           $37424| 5560.620010480285|   2010-06|         M|\n",
      "+---------+------+-----------------+------------------+----------+----------+\n",
      "only showing top 20 rows\n"
     ]
    }
   ],
   "source": [
    "final_df.show()\n"
   ]
  },
  {
   "cell_type": "code",
   "execution_count": null,
   "id": "9eb8a758",
   "metadata": {},
   "outputs": [
    {
     "data": {
      "text/plain": [
       "69557"
      ]
     },
     "execution_count": 17,
     "metadata": {},
     "output_type": "execute_result"
    },
    {
     "ename": "",
     "evalue": "",
     "output_type": "error",
     "traceback": [
      "\u001b[1;31mThe Kernel crashed while executing code in the current cell or a previous cell. \n",
      "\u001b[1;31mPlease review the code in the cell(s) to identify a possible cause of the failure. \n",
      "\u001b[1;31mClick <a href='https://aka.ms/vscodeJupyterKernelCrash'>here</a> for more info. \n",
      "\u001b[1;31mView Jupyter <a href='command:jupyter.viewOutput'>log</a> for further details."
     ]
    }
   ],
   "source": [
    "final_df.count()"
   ]
  }
 ],
 "metadata": {
  "kernelspec": {
   "display_name": "python=3.11",
   "language": "python",
   "name": "python3"
  },
  "language_info": {
   "codemirror_mode": {
    "name": "ipython",
    "version": 3
   },
   "file_extension": ".py",
   "mimetype": "text/x-python",
   "name": "python",
   "nbconvert_exporter": "python",
   "pygments_lexer": "ipython3",
   "version": "3.10.0"
  }
 },
 "nbformat": 4,
 "nbformat_minor": 5
}
